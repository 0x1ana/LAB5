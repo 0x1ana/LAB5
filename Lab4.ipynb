{
  "nbformat": 4,
  "nbformat_minor": 0,
  "metadata": {
    "colab": {
      "provenance": [],
      "authorship_tag": "ABX9TyNi4DHgfSg0nXRYjY0W1L6R",
      "include_colab_link": true
    },
    "kernelspec": {
      "name": "python3",
      "display_name": "Python 3"
    },
    "language_info": {
      "name": "python"
    }
  },
  "cells": [
    {
      "cell_type": "markdown",
      "metadata": {
        "id": "view-in-github",
        "colab_type": "text"
      },
      "source": [
        "<a href=\"https://colab.research.google.com/github/0x1ana/LAB5/blob/main/Lab4.ipynb\" target=\"_parent\"><img src=\"https://colab.research.google.com/assets/colab-badge.svg\" alt=\"Open In Colab\"/></a>"
      ]
    },
    {
      "cell_type": "code",
      "source": [
        "import os\n",
        "os.getcwd()"
      ],
      "metadata": {
        "colab": {
          "base_uri": "https://localhost:8080/",
          "height": 35
        },
        "id": "jtn6jcwXeclD",
        "outputId": "9babe697-ec3e-4ceb-f4ba-916eaf772fdf"
      },
      "execution_count": 2,
      "outputs": [
        {
          "output_type": "execute_result",
          "data": {
            "text/plain": [
              "'/content'"
            ],
            "application/vnd.google.colaboratory.intrinsic+json": {
              "type": "string"
            }
          },
          "metadata": {},
          "execution_count": 2
        }
      ]
    },
    {
      "cell_type": "code",
      "source": [
        "#Mouting the drive to load a simple data set stored on the Google Drive\n",
        "from google.colab import drive\n",
        "drive.mount('/content/gdrive')"
      ],
      "metadata": {
        "colab": {
          "base_uri": "https://localhost:8080/"
        },
        "id": "2FB3N6ceebME",
        "outputId": "2aca67db-b02d-44e5-a10a-86ccf494b221"
      },
      "execution_count": 3,
      "outputs": [
        {
          "output_type": "stream",
          "name": "stdout",
          "text": [
            "Mounted at /content/gdrive\n"
          ]
        }
      ]
    },
    {
      "cell_type": "code",
      "execution_count": 4,
      "metadata": {
        "id": "xjbXIK2XfNxH",
        "colab": {
          "base_uri": "https://localhost:8080/"
        },
        "outputId": "8c4111e6-a1fc-44b5-bde3-76bffdc6d0af"
      },
      "outputs": [
        {
          "output_type": "stream",
          "name": "stderr",
          "text": [
            "<ipython-input-4-ad53c84c2722>:27: SettingWithCopyWarning: \n",
            "A value is trying to be set on a copy of a slice from a DataFrame.\n",
            "Try using .loc[row_indexer,col_indexer] = value instead\n",
            "\n",
            "See the caveats in the documentation: https://pandas.pydata.org/pandas-docs/stable/user_guide/indexing.html#returning-a-view-versus-a-copy\n",
            "  train_data[['Age']] = standard_scaler(train_data[['Age']])\n"
          ]
        },
        {
          "output_type": "stream",
          "name": "stdout",
          "text": [
            "For the value of k  =  1  the accuracy score is:  0.6363636363636364\n",
            "For the value of k  =  2  the accuracy score is:  0.6853146853146853\n",
            "For the value of k  =  3  the accuracy score is:  0.6083916083916084\n",
            "For the value of k  =  4  the accuracy score is:  0.6363636363636364\n",
            "For the value of k  =  5  the accuracy score is:  0.6573426573426573\n",
            "For the value of k  =  6  the accuracy score is:  0.6433566433566433\n",
            "For the value of k  =  7  the accuracy score is:  0.6433566433566433\n",
            "For the value of k  =  8  the accuracy score is:  0.6573426573426573\n",
            "For the value of k  =  9  the accuracy score is:  0.6783216783216783\n",
            "For the value of k  =  10  the accuracy score is:  0.6713286713286714\n",
            "For the value of k  =  11  the accuracy score is:  0.6923076923076923\n",
            "For the value of k  =  12  the accuracy score is:  0.6783216783216783\n",
            "For the value of k  =  13  the accuracy score is:  0.6713286713286714\n",
            "For the value of k  =  14  the accuracy score is:  0.6643356643356644\n",
            "For the value of k  =  15  the accuracy score is:  0.6853146853146853\n",
            "For the value of k  =  16  the accuracy score is:  0.6643356643356644\n",
            "For the value of k  =  17  the accuracy score is:  0.6783216783216783\n",
            "For the value of k  =  18  the accuracy score is:  0.6643356643356644\n",
            "For the value of k  =  19  the accuracy score is:  0.6643356643356644\n",
            "For the value of k  =  20  the accuracy score is:  0.6643356643356644\n",
            "For the value of k  =  21  the accuracy score is:  0.6713286713286714\n",
            "For the value of k  =  22  the accuracy score is:  0.6643356643356644\n",
            "For the value of k  =  23  the accuracy score is:  0.6643356643356644\n",
            "For the value of k  =  24  the accuracy score is:  0.6643356643356644\n",
            "For the value of k  =  25  the accuracy score is:  0.6783216783216783\n",
            "For the value of k  =  26  the accuracy score is:  0.6783216783216783\n",
            "For the value of k  =  27  the accuracy score is:  0.6783216783216783\n",
            "For the value of k  =  28  the accuracy score is:  0.6783216783216783\n",
            "For the value of k  =  29  the accuracy score is:  0.6853146853146853\n",
            "The KNN with the highest accuracy  0.6923076923076923 has the following parameter: \\k =  11\n",
            "mean_cv_score:  0.6813272311212814 \\std_cv_score:  0.03235443671677416\n",
            "[[74 13]\n",
            " [31 25]]\n",
            "              precision    recall  f1-score   support\n",
            "\n",
            "           0       0.70      0.85      0.77        87\n",
            "           1       0.66      0.45      0.53        56\n",
            "\n",
            "    accuracy                           0.69       143\n",
            "   macro avg       0.68      0.65      0.65       143\n",
            "weighted avg       0.69      0.69      0.68       143\n",
            "\n",
            "0.6923076923076923\n"
          ]
        }
      ],
      "source": [
        "# Import necessary libraries\n",
        "import pandas as pd\n",
        "import numpy as np\n",
        "from sklearn.metrics import accuracy_score, confusion_matrix\n",
        "from sklearn.model_selection import train_test_split\n",
        "from sklearn.neighbors import KNeighborsClassifier\n",
        "from sklearn.metrics import classification_report\n",
        "\n",
        "\n",
        "# Assuming you're using a Google Colab notebook, you can access the uploaded files like this:\n",
        "train_data = pd.read_csv(\"/content/gdrive/My Drive/train.csv\",sep=',')\n",
        "test_data = pd.read_csv(\"/content/gdrive/My Drive/test.csv\",sep=',')\n",
        "\n",
        "train_data = train_data.dropna(subset = [\"Age\"])\n",
        "test_data = test_data.dropna(subset = [\"Age\"])\n",
        "\n",
        "# Standard Scaler (Write your own implementation)\n",
        "\n",
        "def standard_scaler(data):\n",
        "    mean = np.mean(data, axis=0)\n",
        "    std_dev = np.std(data, axis=0)\n",
        "    scaled_data = (data - mean) / std_dev\n",
        "    return scaled_data\n",
        "\n",
        "\n",
        "\n",
        "train_data[['Age']] = standard_scaler(train_data[['Age']])\n",
        "\n",
        "# Split the data into training and testing sets\n",
        "train_data_set, test_data_set = train_test_split(train_data, test_size=0.2, random_state=42)\n",
        "\n",
        "training_data,training_target = train_data_set[['Pclass', 'Age' ]], train_data_set[\"Survived\"]\n",
        "testing_data,testing_target = test_data_set[['Pclass', 'Age' ]], test_data_set[\"Survived\"]\n",
        "\n",
        "\n",
        "# Assuming a range of K values (e.g., from 1 to 20)\n",
        "k_values = range(1, 30)\n",
        "k_value = 0\n",
        "highest_accuracy_DT = 0\n",
        "\n",
        "for k in k_values:\n",
        "    knn_classifier = KNeighborsClassifier(n_neighbors=k)\n",
        "    knn_classifier.fit(training_data, training_target)\n",
        "    testing_data_predict = knn_classifier.predict(testing_data)\n",
        "    print(\"For the value of k  = \",k, \" the accuracy score is: \", accuracy_score(testing_target,testing_data_predict))\n",
        "\n",
        "\n",
        "    if accuracy_score(testing_target,testing_data_predict) > highest_accuracy_DT:\n",
        "          highest_accuracy_DT = accuracy_score(testing_target,testing_data_predict)\n",
        "          k_value = k\n",
        "\n",
        "print(\"The KNN with the highest accuracy \",highest_accuracy_DT, \"has the following parameter: \\k = \", k_value)\n",
        "\n",
        "\n",
        "\n",
        "#Run 5-fold cross validations\n",
        "\n",
        "from sklearn.model_selection import cross_val_score\n",
        "\n",
        "knn_classifier = KNeighborsClassifier(n_neighbors=k_value)  # Use the best K value you found\n",
        "cross_val_scores = cross_val_score(knn_classifier, training_data,training_target, cv=5)\n",
        "\n",
        "# Report mean and standard deviation of cross-validation scores\n",
        "mean_cv_score = np.mean(cross_val_scores)\n",
        "std_cv_score = np.std(cross_val_scores)\n",
        "print(\"mean_cv_score: \",mean_cv_score, \"\\std_cv_score: \", std_cv_score)\n",
        "\n",
        "# Evaluate using confusion matrix\n",
        "\n",
        "best_knn_classifier = KNeighborsClassifier(n_neighbors=k_value)\n",
        "best_knn_classifier.fit(training_data, training_target)\n",
        "testing_data_predict_best = best_knn_classifier.predict(testing_data)\n",
        "\n",
        "conf_matrix = confusion_matrix(testing_target, testing_data_predict_best)\n",
        "c_r = classification_report(testing_target,testing_data_predict_best)\n",
        "a_s = accuracy_score(testing_target,testing_data_predict_best)\n",
        "\n",
        "# Compare observed value and Predicted value\n",
        "print(conf_matrix)\n",
        "print(c_r)\n",
        "print(a_s)\n",
        "\n",
        "#Report accuracy, best K value, and confusion matrix\n"
      ]
    },
    {
      "cell_type": "code",
      "source": [
        "#Checking if there are missing values in the dataset\n",
        "train_data.isnull().sum()"
      ],
      "metadata": {
        "colab": {
          "base_uri": "https://localhost:8080/"
        },
        "id": "okP86yM1eZ6d",
        "outputId": "4509b44f-9921-44ad-bbae-b76a534dc504"
      },
      "execution_count": 7,
      "outputs": [
        {
          "output_type": "execute_result",
          "data": {
            "text/plain": [
              "PassengerId      0\n",
              "Survived         0\n",
              "Pclass           0\n",
              "Name             0\n",
              "Sex              0\n",
              "Age            177\n",
              "SibSp            0\n",
              "Parch            0\n",
              "Ticket           0\n",
              "Fare             0\n",
              "Cabin          687\n",
              "Embarked         2\n",
              "dtype: int64"
            ]
          },
          "metadata": {},
          "execution_count": 7
        }
      ]
    },
    {
      "cell_type": "code",
      "source": [
        "test_data.isnull().sum()"
      ],
      "metadata": {
        "colab": {
          "base_uri": "https://localhost:8080/"
        },
        "id": "aqMcRu5_eYqN",
        "outputId": "a6ed28cc-db0f-4e92-e837-715666725831"
      },
      "execution_count": 8,
      "outputs": [
        {
          "output_type": "execute_result",
          "data": {
            "text/plain": [
              "PassengerId      0\n",
              "Pclass           0\n",
              "Name             0\n",
              "Sex              0\n",
              "Age             86\n",
              "SibSp            0\n",
              "Parch            0\n",
              "Ticket           0\n",
              "Fare             1\n",
              "Cabin          327\n",
              "Embarked         0\n",
              "dtype: int64"
            ]
          },
          "metadata": {},
          "execution_count": 8
        }
      ]
    }
  ]
}