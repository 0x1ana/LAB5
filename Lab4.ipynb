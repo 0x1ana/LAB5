{
  "nbformat": 4,
  "nbformat_minor": 0,
  "metadata": {
    "colab": {
      "provenance": [],
      "authorship_tag": "ABX9TyMCXM3k/iqvmQLGNM1huUyZ"
    },
    "kernelspec": {
      "name": "python3",
      "display_name": "Python 3"
    },
    "language_info": {
      "name": "python"
    }
  },
  "cells": [
    {
      "cell_type": "code",
      "source": [
        "import os\n",
        "os.getcwd()"
      ],
      "metadata": {
        "colab": {
          "base_uri": "https://localhost:8080/",
          "height": 35
        },
        "id": "jtn6jcwXeclD",
        "outputId": "bb703f8f-9437-4979-8430-94b6c325f6c7"
      },
      "execution_count": null,
      "outputs": [
        {
          "output_type": "execute_result",
          "data": {
            "text/plain": [
              "'/content'"
            ],
            "application/vnd.google.colaboratory.intrinsic+json": {
              "type": "string"
            }
          },
          "metadata": {},
          "execution_count": 1
        }
      ]
    },
    {
      "cell_type": "code",
      "source": [
        "#Mouting the drive to load a simple data set stored on the Google Drive\n",
        "from google.colab import drive\n",
        "drive.mount('/content/gdrive')"
      ],
      "metadata": {
        "colab": {
          "base_uri": "https://localhost:8080/"
        },
        "id": "2FB3N6ceebME",
        "outputId": "88f1c03e-c95d-4012-867c-ede51abdf2e1"
      },
      "execution_count": null,
      "outputs": [
        {
          "output_type": "stream",
          "name": "stdout",
          "text": [
            "Mounted at /content/gdrive\n"
          ]
        }
      ]
    },
    {
      "cell_type": "code",
      "execution_count": null,
      "metadata": {
        "id": "xjbXIK2XfNxH",
        "colab": {
          "base_uri": "https://localhost:8080/"
        },
        "outputId": "ab7cd275-47c1-404e-dc42-1b3782cf5b53"
      },
      "outputs": [
        {
          "output_type": "stream",
          "name": "stdout",
          "text": [
            "For the value of k  =  1  the accuracy score is:  0.7412587412587412\n",
            "For the value of k  =  2  the accuracy score is:  0.7622377622377622\n",
            "For the value of k  =  3  the accuracy score is:  0.7412587412587412\n",
            "For the value of k  =  4  the accuracy score is:  0.7902097902097902\n",
            "For the value of k  =  5  the accuracy score is:  0.7902097902097902\n",
            "For the value of k  =  6  the accuracy score is:  0.8111888111888111\n",
            "For the value of k  =  7  the accuracy score is:  0.7762237762237763\n",
            "For the value of k  =  8  the accuracy score is:  0.7902097902097902\n",
            "For the value of k  =  9  the accuracy score is:  0.7622377622377622\n",
            "For the value of k  =  10  the accuracy score is:  0.7692307692307693\n",
            "For the value of k  =  11  the accuracy score is:  0.7762237762237763\n",
            "For the value of k  =  12  the accuracy score is:  0.7762237762237763\n",
            "For the value of k  =  13  the accuracy score is:  0.7552447552447552\n",
            "For the value of k  =  14  the accuracy score is:  0.7552447552447552\n",
            "For the value of k  =  15  the accuracy score is:  0.7482517482517482\n",
            "For the value of k  =  16  the accuracy score is:  0.7552447552447552\n",
            "For the value of k  =  17  the accuracy score is:  0.7552447552447552\n",
            "For the value of k  =  18  the accuracy score is:  0.7622377622377622\n",
            "For the value of k  =  19  the accuracy score is:  0.7622377622377622\n",
            "For the value of k  =  20  the accuracy score is:  0.7482517482517482\n",
            "For the value of k  =  21  the accuracy score is:  0.7552447552447552\n",
            "For the value of k  =  22  the accuracy score is:  0.7552447552447552\n",
            "For the value of k  =  23  the accuracy score is:  0.7342657342657343\n",
            "For the value of k  =  24  the accuracy score is:  0.7552447552447552\n",
            "For the value of k  =  25  the accuracy score is:  0.7342657342657343\n",
            "For the value of k  =  26  the accuracy score is:  0.7412587412587412\n",
            "For the value of k  =  27  the accuracy score is:  0.7342657342657343\n",
            "For the value of k  =  28  the accuracy score is:  0.7342657342657343\n",
            "For the value of k  =  29  the accuracy score is:  0.7272727272727273\n",
            "For the value of k  =  30  the accuracy score is:  0.7202797202797203\n",
            "For the value of k  =  31  the accuracy score is:  0.7272727272727273\n",
            "For the value of k  =  32  the accuracy score is:  0.7062937062937062\n",
            "For the value of k  =  33  the accuracy score is:  0.7062937062937062\n",
            "For the value of k  =  34  the accuracy score is:  0.7202797202797203\n",
            "For the value of k  =  35  the accuracy score is:  0.7202797202797203\n",
            "For the value of k  =  36  the accuracy score is:  0.7202797202797203\n",
            "For the value of k  =  37  the accuracy score is:  0.7272727272727273\n",
            "For the value of k  =  38  the accuracy score is:  0.7202797202797203\n",
            "For the value of k  =  39  the accuracy score is:  0.7132867132867133\n",
            "For the value of k  =  40  the accuracy score is:  0.7062937062937062\n",
            "For the value of k  =  41  the accuracy score is:  0.7062937062937062\n",
            "For the value of k  =  42  the accuracy score is:  0.7062937062937062\n",
            "For the value of k  =  43  the accuracy score is:  0.7062937062937062\n",
            "For the value of k  =  44  the accuracy score is:  0.6993006993006993\n",
            "For the value of k  =  45  the accuracy score is:  0.6993006993006993\n",
            "For the value of k  =  46  the accuracy score is:  0.7062937062937062\n",
            "For the value of k  =  47  the accuracy score is:  0.6923076923076923\n",
            "For the value of k  =  48  the accuracy score is:  0.7062937062937062\n",
            "For the value of k  =  49  the accuracy score is:  0.6993006993006993\n",
            "The KNN with the highest accuracy  0.8111888111888111 has the following parameter: \\k =  6\n",
            "mean_cv_score:  0.8073226544622425 \\std_cv_score:  0.023115274700028533\n",
            "[[76 11]\n",
            " [16 40]]\n",
            "              precision    recall  f1-score   support\n",
            "\n",
            "           0       0.83      0.87      0.85        87\n",
            "           1       0.78      0.71      0.75        56\n",
            "\n",
            "    accuracy                           0.81       143\n",
            "   macro avg       0.81      0.79      0.80       143\n",
            "weighted avg       0.81      0.81      0.81       143\n",
            "\n",
            "0.8111888111888111\n"
          ]
        }
      ],
      "source": [
        "# Import necessary libraries\n",
        "import pandas as pd\n",
        "import numpy as np\n",
        "from sklearn.metrics import accuracy_score, confusion_matrix\n",
        "from sklearn.model_selection import train_test_split\n",
        "from sklearn.neighbors import KNeighborsClassifier\n",
        "from sklearn.metrics import classification_report\n",
        "import seaborn as sns\n",
        "%matplotlib inline\n",
        "from matplotlib import pyplot as plt\n",
        "from matplotlib import style\n",
        "\n",
        "\n",
        "train_data = pd.read_csv(\"/content/gdrive/My Drive/train.csv\",sep=',')\n",
        "test_data = pd.read_csv(\"/content/gdrive/My Drive/test.csv\",sep=',')\n",
        "\n",
        "train_data = train_data.dropna(subset = [\"Age\"])\n",
        "test_data = test_data.dropna(subset = [\"Age\"])\n",
        "train_data['Sex']=train_data['Sex'].apply(lambda x: 1 if x=='female' else 0)\n",
        "train_data.head()\n",
        "\n",
        "# Standard Scaler )\n",
        "\n",
        "def standard_scaler(data):\n",
        "    mean = np.mean(data, axis=0)\n",
        "    std_dev = np.std(data, axis=0)\n",
        "    scaled_data = (data - mean) / std_dev\n",
        "    return scaled_data\n",
        "\n",
        "\n",
        "\n",
        "\n",
        "train_data.loc[:, ['Age','Fare']] = standard_scaler(train_data[['Age', 'Fare']])\n",
        "\n",
        "\n",
        "# Split the data into training and testing sets\n",
        "train_data_set, test_data_set = train_test_split(train_data, test_size=0.2, random_state=42)\n",
        "\n",
        "training_data,training_target = train_data_set[['Pclass', 'Age', 'Fare','Sex' ]], train_data_set[\"Survived\"]\n",
        "testing_data,testing_target = test_data_set[['Pclass', 'Age', 'Fare','Sex', ]], test_data_set[\"Survived\"]\n",
        "\n",
        "\n",
        "# Assuming a range of K values (e.g., from 1 to 50)\n",
        "k_values = range(1, 50)\n",
        "k_value = 0\n",
        "highest_accuracy_DT = 0\n",
        "accuracy_scores = []\n",
        "\n",
        "for k in k_values:\n",
        "    knn_classifier = KNeighborsClassifier(n_neighbors=k)\n",
        "    knn_classifier.fit(training_data, training_target)\n",
        "    testing_data_predict = knn_classifier.predict(testing_data)\n",
        "    print(\"For the value of k  = \",k, \" the accuracy score is: \", accuracy_score(testing_target,testing_data_predict))\n",
        "    accuracy_scores.append(accuracy_score)\n",
        "\n",
        "    if accuracy_score(testing_target,testing_data_predict) > highest_accuracy_DT:\n",
        "          highest_accuracy_DT = accuracy_score(testing_target,testing_data_predict)\n",
        "          k_value = k\n",
        "\n",
        "print(\"The KNN with the highest accuracy \",highest_accuracy_DT, \"has the following parameter: \\k = \", k_value)\n",
        "\n",
        "\n",
        "#Run 5-fold cross validations\n",
        "\n",
        "from sklearn.model_selection import cross_val_score\n",
        "\n",
        "knn_classifier = KNeighborsClassifier(n_neighbors=k_value, weights = 'distance')  # Use the best K value you found\n",
        "cross_val_scores = cross_val_score(knn_classifier, training_data,training_target, cv=5)\n",
        "\n",
        "# Report mean and standard deviation of cross-validation scores\n",
        "mean_cv_score = np.mean(cross_val_scores)\n",
        "std_cv_score = np.std(cross_val_scores)\n",
        "print(\"mean_cv_score: \",mean_cv_score, \"\\std_cv_score: \", std_cv_score)\n",
        "\n",
        "# Evaluate using confusion matrix\n",
        "\n",
        "best_knn_classifier = KNeighborsClassifier(n_neighbors=k_value)\n",
        "best_knn_classifier.fit(training_data, training_target)\n",
        "testing_data_predict_best = best_knn_classifier.predict(testing_data)\n",
        "\n",
        "conf_matrix = confusion_matrix(testing_target, testing_data_predict_best)\n",
        "c_r = classification_report(testing_target,testing_data_predict_best)\n",
        "a_s = accuracy_score(testing_target,testing_data_predict_best)\n",
        "\n",
        "# Compare observed value and Predicted value\n",
        "print(conf_matrix)\n",
        "print(c_r)\n",
        "print(a_s)\n",
        "\n",
        "\n",
        "\n"
      ]
    },
    {
      "cell_type": "code",
      "source": [
        "\n",
        "\n",
        "plt.figure(figsize=(5,5))\n",
        "sns.heatmap(conf_matrix,annot=True,fmt='d', cmap=\"BuPu\")"
      ],
      "metadata": {
        "colab": {
          "base_uri": "https://localhost:8080/",
          "height": 463
        },
        "id": "q3jbSBybateD",
        "outputId": "4c006ec8-4776-4555-9d23-902fab3276ac"
      },
      "execution_count": null,
      "outputs": [
        {
          "output_type": "execute_result",
          "data": {
            "text/plain": [
              "<Axes: >"
            ]
          },
          "metadata": {},
          "execution_count": 20
        },
        {
          "output_type": "display_data",
          "data": {
            "text/plain": [
              "<Figure size 500x500 with 2 Axes>"
            ],
            "image/png": "[encoded data removed]"
          },
          "metadata": {}
        }
      ]
    }
  ]
}